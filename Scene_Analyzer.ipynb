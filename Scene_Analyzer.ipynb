{
  "nbformat": 4,
  "nbformat_minor": 0,
  "metadata": {
    "kernelspec": {
      "display_name": "Python 3",
      "language": "python",
      "name": "python3"
    },
    "language_info": {
      "codemirror_mode": {
        "name": "ipython",
        "version": 3
      },
      "file_extension": ".py",
      "mimetype": "text/x-python",
      "name": "python",
      "nbconvert_exporter": "python",
      "pygments_lexer": "ipython3",
      "version": "3.8.3"
    },
    "colab": {
      "name": "Scene Analysis.ipynb",
      "provenance": []
    }
  },
  "cells": [
    {
      "cell_type": "markdown",
      "metadata": {
        "id": "_Q834jaFBalK"
      },
      "source": [
        "#Importing Libraries"
      ]
    },
    {
      "cell_type": "code",
      "metadata": {
        "id": "W30oyz3oGaOV"
      },
      "source": [
        "import numpy as np\n",
        "import pandas as pd\n",
        "import os\n",
        "import tensorflow as tf\n",
        "from keras.preprocessing import image"
      ],
      "execution_count": null,
      "outputs": []
    },
    {
      "cell_type": "markdown",
      "metadata": {
        "id": "a2QUiF0mBetw"
      },
      "source": [
        "#Preparation of Dataset"
      ]
    },
    {
      "cell_type": "code",
      "metadata": {
        "id": "AHUTiZe3GaOg"
      },
      "source": [
        "os.chdir('D:\\\\Scene Analyzer_mini\\\\train')"
      ],
      "execution_count": null,
      "outputs": []
    },
    {
      "cell_type": "code",
      "metadata": {
        "id": "bm-9bG6pGaOj",
        "outputId": "89fe56c3-53fd-463e-a79e-f22dcb5bf330"
      },
      "source": [
        "train_set=[]\n",
        "ct=-1\n",
        "for folder,sub_folders,files in os.walk('D:\\\\Scene Analyzer_mini\\\\train'):\n",
        "    print(folder)\n",
        "    for s in sub_folders:\n",
        "        print(s)\n",
        "    for f in files:\n",
        "        buffer=image.load_img(folder+'\\\\'+f,target_size=(48,48))\n",
        "        buffer=tf.keras.preprocessing.image.img_to_array(buffer)\n",
        "        flattened=buffer.flatten()\n",
        "        flattened=np.append(flattened,ct)\n",
        "        train_set.append(flattened)\n",
        "    ct+=1"
      ],
      "execution_count": null,
      "outputs": [
        {
          "output_type": "stream",
          "text": [
            "D:\\Scene Analyzer_mini\\train\n",
            "buildings\n",
            "forest\n",
            "glacier\n",
            "mountain\n",
            "sea\n",
            "street\n",
            "D:\\Scene Analyzer_mini\\train\\buildings\n",
            "D:\\Scene Analyzer_mini\\train\\forest\n",
            "D:\\Scene Analyzer_mini\\train\\glacier\n",
            "D:\\Scene Analyzer_mini\\train\\mountain\n",
            "D:\\Scene Analyzer_mini\\train\\sea\n",
            "D:\\Scene Analyzer_mini\\train\\street\n"
          ],
          "name": "stdout"
        }
      ]
    },
    {
      "cell_type": "code",
      "metadata": {
        "id": "_faeWdKSGaOm"
      },
      "source": [
        "dataset=pd.DataFrame(data=train_set)\n",
        "dataset = dataset.sample(frac = 1)"
      ],
      "execution_count": null,
      "outputs": []
    },
    {
      "cell_type": "code",
      "metadata": {
        "id": "5g2mgNdKGaOo"
      },
      "source": [
        "dataset.to_csv('train.csv')"
      ],
      "execution_count": null,
      "outputs": []
    },
    {
      "cell_type": "code",
      "metadata": {
        "id": "h2XY0b82GaOr",
        "outputId": "86d12e10-5955-4a3b-aa38-7604d4f39314"
      },
      "source": [
        "dataset"
      ],
      "execution_count": null,
      "outputs": [
        {
          "output_type": "execute_result",
          "data": {
            "text/html": [
              "<div>\n",
              "<style scoped>\n",
              "    .dataframe tbody tr th:only-of-type {\n",
              "        vertical-align: middle;\n",
              "    }\n",
              "\n",
              "    .dataframe tbody tr th {\n",
              "        vertical-align: top;\n",
              "    }\n",
              "\n",
              "    .dataframe thead th {\n",
              "        text-align: right;\n",
              "    }\n",
              "</style>\n",
              "<table border=\"1\" class=\"dataframe\">\n",
              "  <thead>\n",
              "    <tr style=\"text-align: right;\">\n",
              "      <th></th>\n",
              "      <th>0</th>\n",
              "      <th>1</th>\n",
              "      <th>2</th>\n",
              "      <th>3</th>\n",
              "      <th>4</th>\n",
              "      <th>5</th>\n",
              "      <th>6</th>\n",
              "      <th>7</th>\n",
              "      <th>8</th>\n",
              "      <th>9</th>\n",
              "      <th>...</th>\n",
              "      <th>6903</th>\n",
              "      <th>6904</th>\n",
              "      <th>6905</th>\n",
              "      <th>6906</th>\n",
              "      <th>6907</th>\n",
              "      <th>6908</th>\n",
              "      <th>6909</th>\n",
              "      <th>6910</th>\n",
              "      <th>6911</th>\n",
              "      <th>6912</th>\n",
              "    </tr>\n",
              "  </thead>\n",
              "  <tbody>\n",
              "    <tr>\n",
              "      <th>90</th>\n",
              "      <td>101.0</td>\n",
              "      <td>109.0</td>\n",
              "      <td>145.0</td>\n",
              "      <td>24.0</td>\n",
              "      <td>35.0</td>\n",
              "      <td>67.0</td>\n",
              "      <td>108.0</td>\n",
              "      <td>118.0</td>\n",
              "      <td>187.0</td>\n",
              "      <td>242.0</td>\n",
              "      <td>...</td>\n",
              "      <td>1.0</td>\n",
              "      <td>1.0</td>\n",
              "      <td>0.0</td>\n",
              "      <td>2.0</td>\n",
              "      <td>2.0</td>\n",
              "      <td>2.0</td>\n",
              "      <td>4.0</td>\n",
              "      <td>4.0</td>\n",
              "      <td>4.0</td>\n",
              "      <td>1.0</td>\n",
              "    </tr>\n",
              "    <tr>\n",
              "      <th>149</th>\n",
              "      <td>38.0</td>\n",
              "      <td>80.0</td>\n",
              "      <td>130.0</td>\n",
              "      <td>49.0</td>\n",
              "      <td>91.0</td>\n",
              "      <td>141.0</td>\n",
              "      <td>57.0</td>\n",
              "      <td>97.0</td>\n",
              "      <td>149.0</td>\n",
              "      <td>53.0</td>\n",
              "      <td>...</td>\n",
              "      <td>179.0</td>\n",
              "      <td>163.0</td>\n",
              "      <td>52.0</td>\n",
              "      <td>114.0</td>\n",
              "      <td>114.0</td>\n",
              "      <td>14.0</td>\n",
              "      <td>108.0</td>\n",
              "      <td>115.0</td>\n",
              "      <td>19.0</td>\n",
              "      <td>2.0</td>\n",
              "    </tr>\n",
              "    <tr>\n",
              "      <th>5</th>\n",
              "      <td>182.0</td>\n",
              "      <td>203.0</td>\n",
              "      <td>246.0</td>\n",
              "      <td>184.0</td>\n",
              "      <td>205.0</td>\n",
              "      <td>248.0</td>\n",
              "      <td>184.0</td>\n",
              "      <td>203.0</td>\n",
              "      <td>245.0</td>\n",
              "      <td>190.0</td>\n",
              "      <td>...</td>\n",
              "      <td>148.0</td>\n",
              "      <td>142.0</td>\n",
              "      <td>142.0</td>\n",
              "      <td>153.0</td>\n",
              "      <td>147.0</td>\n",
              "      <td>149.0</td>\n",
              "      <td>152.0</td>\n",
              "      <td>146.0</td>\n",
              "      <td>148.0</td>\n",
              "      <td>0.0</td>\n",
              "    </tr>\n",
              "    <tr>\n",
              "      <th>92</th>\n",
              "      <td>6.0</td>\n",
              "      <td>17.0</td>\n",
              "      <td>1.0</td>\n",
              "      <td>46.0</td>\n",
              "      <td>63.0</td>\n",
              "      <td>21.0</td>\n",
              "      <td>82.0</td>\n",
              "      <td>108.0</td>\n",
              "      <td>35.0</td>\n",
              "      <td>133.0</td>\n",
              "      <td>...</td>\n",
              "      <td>87.0</td>\n",
              "      <td>135.0</td>\n",
              "      <td>35.0</td>\n",
              "      <td>78.0</td>\n",
              "      <td>127.0</td>\n",
              "      <td>18.0</td>\n",
              "      <td>98.0</td>\n",
              "      <td>151.0</td>\n",
              "      <td>37.0</td>\n",
              "      <td>1.0</td>\n",
              "    </tr>\n",
              "    <tr>\n",
              "      <th>231</th>\n",
              "      <td>193.0</td>\n",
              "      <td>168.0</td>\n",
              "      <td>127.0</td>\n",
              "      <td>192.0</td>\n",
              "      <td>167.0</td>\n",
              "      <td>126.0</td>\n",
              "      <td>190.0</td>\n",
              "      <td>165.0</td>\n",
              "      <td>124.0</td>\n",
              "      <td>186.0</td>\n",
              "      <td>...</td>\n",
              "      <td>58.0</td>\n",
              "      <td>27.0</td>\n",
              "      <td>22.0</td>\n",
              "      <td>56.0</td>\n",
              "      <td>27.0</td>\n",
              "      <td>21.0</td>\n",
              "      <td>55.0</td>\n",
              "      <td>26.0</td>\n",
              "      <td>20.0</td>\n",
              "      <td>4.0</td>\n",
              "    </tr>\n",
              "    <tr>\n",
              "      <th>...</th>\n",
              "      <td>...</td>\n",
              "      <td>...</td>\n",
              "      <td>...</td>\n",
              "      <td>...</td>\n",
              "      <td>...</td>\n",
              "      <td>...</td>\n",
              "      <td>...</td>\n",
              "      <td>...</td>\n",
              "      <td>...</td>\n",
              "      <td>...</td>\n",
              "      <td>...</td>\n",
              "      <td>...</td>\n",
              "      <td>...</td>\n",
              "      <td>...</td>\n",
              "      <td>...</td>\n",
              "      <td>...</td>\n",
              "      <td>...</td>\n",
              "      <td>...</td>\n",
              "      <td>...</td>\n",
              "      <td>...</td>\n",
              "      <td>...</td>\n",
              "    </tr>\n",
              "    <tr>\n",
              "      <th>45</th>\n",
              "      <td>221.0</td>\n",
              "      <td>227.0</td>\n",
              "      <td>239.0</td>\n",
              "      <td>223.0</td>\n",
              "      <td>228.0</td>\n",
              "      <td>221.0</td>\n",
              "      <td>244.0</td>\n",
              "      <td>248.0</td>\n",
              "      <td>255.0</td>\n",
              "      <td>228.0</td>\n",
              "      <td>...</td>\n",
              "      <td>142.0</td>\n",
              "      <td>160.0</td>\n",
              "      <td>182.0</td>\n",
              "      <td>144.0</td>\n",
              "      <td>165.0</td>\n",
              "      <td>186.0</td>\n",
              "      <td>143.0</td>\n",
              "      <td>164.0</td>\n",
              "      <td>185.0</td>\n",
              "      <td>0.0</td>\n",
              "    </tr>\n",
              "    <tr>\n",
              "      <th>19</th>\n",
              "      <td>243.0</td>\n",
              "      <td>243.0</td>\n",
              "      <td>243.0</td>\n",
              "      <td>244.0</td>\n",
              "      <td>244.0</td>\n",
              "      <td>244.0</td>\n",
              "      <td>245.0</td>\n",
              "      <td>245.0</td>\n",
              "      <td>245.0</td>\n",
              "      <td>246.0</td>\n",
              "      <td>...</td>\n",
              "      <td>33.0</td>\n",
              "      <td>33.0</td>\n",
              "      <td>33.0</td>\n",
              "      <td>35.0</td>\n",
              "      <td>35.0</td>\n",
              "      <td>35.0</td>\n",
              "      <td>31.0</td>\n",
              "      <td>31.0</td>\n",
              "      <td>31.0</td>\n",
              "      <td>0.0</td>\n",
              "    </tr>\n",
              "    <tr>\n",
              "      <th>89</th>\n",
              "      <td>130.0</td>\n",
              "      <td>116.0</td>\n",
              "      <td>115.0</td>\n",
              "      <td>11.0</td>\n",
              "      <td>14.0</td>\n",
              "      <td>5.0</td>\n",
              "      <td>244.0</td>\n",
              "      <td>223.0</td>\n",
              "      <td>220.0</td>\n",
              "      <td>9.0</td>\n",
              "      <td>...</td>\n",
              "      <td>66.0</td>\n",
              "      <td>80.0</td>\n",
              "      <td>27.0</td>\n",
              "      <td>88.0</td>\n",
              "      <td>101.0</td>\n",
              "      <td>55.0</td>\n",
              "      <td>74.0</td>\n",
              "      <td>88.0</td>\n",
              "      <td>29.0</td>\n",
              "      <td>1.0</td>\n",
              "    </tr>\n",
              "    <tr>\n",
              "      <th>145</th>\n",
              "      <td>85.0</td>\n",
              "      <td>129.0</td>\n",
              "      <td>190.0</td>\n",
              "      <td>80.0</td>\n",
              "      <td>124.0</td>\n",
              "      <td>185.0</td>\n",
              "      <td>82.0</td>\n",
              "      <td>126.0</td>\n",
              "      <td>189.0</td>\n",
              "      <td>84.0</td>\n",
              "      <td>...</td>\n",
              "      <td>60.0</td>\n",
              "      <td>58.0</td>\n",
              "      <td>46.0</td>\n",
              "      <td>42.0</td>\n",
              "      <td>42.0</td>\n",
              "      <td>30.0</td>\n",
              "      <td>1.0</td>\n",
              "      <td>6.0</td>\n",
              "      <td>0.0</td>\n",
              "      <td>2.0</td>\n",
              "    </tr>\n",
              "    <tr>\n",
              "      <th>181</th>\n",
              "      <td>83.0</td>\n",
              "      <td>142.0</td>\n",
              "      <td>198.0</td>\n",
              "      <td>85.0</td>\n",
              "      <td>142.0</td>\n",
              "      <td>197.0</td>\n",
              "      <td>85.0</td>\n",
              "      <td>141.0</td>\n",
              "      <td>198.0</td>\n",
              "      <td>83.0</td>\n",
              "      <td>...</td>\n",
              "      <td>65.0</td>\n",
              "      <td>79.0</td>\n",
              "      <td>56.0</td>\n",
              "      <td>9.0</td>\n",
              "      <td>20.0</td>\n",
              "      <td>3.0</td>\n",
              "      <td>67.0</td>\n",
              "      <td>77.0</td>\n",
              "      <td>43.0</td>\n",
              "      <td>3.0</td>\n",
              "    </tr>\n",
              "  </tbody>\n",
              "</table>\n",
              "<p>300 rows × 6913 columns</p>\n",
              "</div>"
            ],
            "text/plain": [
              "      0      1      2      3      4      5      6      7      8      9     \\\n",
              "90   101.0  109.0  145.0   24.0   35.0   67.0  108.0  118.0  187.0  242.0   \n",
              "149   38.0   80.0  130.0   49.0   91.0  141.0   57.0   97.0  149.0   53.0   \n",
              "5    182.0  203.0  246.0  184.0  205.0  248.0  184.0  203.0  245.0  190.0   \n",
              "92     6.0   17.0    1.0   46.0   63.0   21.0   82.0  108.0   35.0  133.0   \n",
              "231  193.0  168.0  127.0  192.0  167.0  126.0  190.0  165.0  124.0  186.0   \n",
              "..     ...    ...    ...    ...    ...    ...    ...    ...    ...    ...   \n",
              "45   221.0  227.0  239.0  223.0  228.0  221.0  244.0  248.0  255.0  228.0   \n",
              "19   243.0  243.0  243.0  244.0  244.0  244.0  245.0  245.0  245.0  246.0   \n",
              "89   130.0  116.0  115.0   11.0   14.0    5.0  244.0  223.0  220.0    9.0   \n",
              "145   85.0  129.0  190.0   80.0  124.0  185.0   82.0  126.0  189.0   84.0   \n",
              "181   83.0  142.0  198.0   85.0  142.0  197.0   85.0  141.0  198.0   83.0   \n",
              "\n",
              "     ...   6903   6904   6905   6906   6907   6908   6909   6910   6911  6912  \n",
              "90   ...    1.0    1.0    0.0    2.0    2.0    2.0    4.0    4.0    4.0   1.0  \n",
              "149  ...  179.0  163.0   52.0  114.0  114.0   14.0  108.0  115.0   19.0   2.0  \n",
              "5    ...  148.0  142.0  142.0  153.0  147.0  149.0  152.0  146.0  148.0   0.0  \n",
              "92   ...   87.0  135.0   35.0   78.0  127.0   18.0   98.0  151.0   37.0   1.0  \n",
              "231  ...   58.0   27.0   22.0   56.0   27.0   21.0   55.0   26.0   20.0   4.0  \n",
              "..   ...    ...    ...    ...    ...    ...    ...    ...    ...    ...   ...  \n",
              "45   ...  142.0  160.0  182.0  144.0  165.0  186.0  143.0  164.0  185.0   0.0  \n",
              "19   ...   33.0   33.0   33.0   35.0   35.0   35.0   31.0   31.0   31.0   0.0  \n",
              "89   ...   66.0   80.0   27.0   88.0  101.0   55.0   74.0   88.0   29.0   1.0  \n",
              "145  ...   60.0   58.0   46.0   42.0   42.0   30.0    1.0    6.0    0.0   2.0  \n",
              "181  ...   65.0   79.0   56.0    9.0   20.0    3.0   67.0   77.0   43.0   3.0  \n",
              "\n",
              "[300 rows x 6913 columns]"
            ]
          },
          "metadata": {
            "tags": []
          },
          "execution_count": 9
        }
      ]
    },
    {
      "cell_type": "code",
      "metadata": {
        "id": "FcTQqQQzGaOu"
      },
      "source": [
        "os.chdir('D:\\\\Scene Analyzer_mini\\\\test')"
      ],
      "execution_count": null,
      "outputs": []
    },
    {
      "cell_type": "code",
      "metadata": {
        "id": "kby8L9EDGaOx",
        "outputId": "1b62cc11-aa90-4b44-dd0b-0b8356d7a668"
      },
      "source": [
        "test_set=[]\n",
        "ct=-1\n",
        "for folder,sub_folders,files in os.walk('D:\\\\Scene Analyzer_mini\\\\train'):\n",
        "    print(folder)\n",
        "    for s in sub_folders:\n",
        "        print(s)\n",
        "    for f in files:\n",
        "        buffer=image.load_img(folder+'\\\\'+f,target_size=(48,48))\n",
        "        buffer=tf.keras.preprocessing.image.img_to_array(buffer)\n",
        "        flattened=buffer.flatten()\n",
        "        flattened=np.append(flattened,ct)\n",
        "        test_set.append(flattened)\n",
        "    ct+=1"
      ],
      "execution_count": null,
      "outputs": [
        {
          "output_type": "stream",
          "text": [
            "D:\\Expression Dataset_mini\\test\n",
            "angry\n",
            "disgust\n",
            "fear\n",
            "happy\n",
            "neutral\n",
            "sad\n",
            "surprise\n",
            "D:\\Expression Dataset_mini\\test\\angry\n",
            "D:\\Expression Dataset_mini\\test\\disgust\n",
            "D:\\Expression Dataset_mini\\test\\fear\n",
            "D:\\Expression Dataset_mini\\test\\happy\n",
            "D:\\Expression Dataset_mini\\test\\neutral\n",
            "D:\\Expression Dataset_mini\\test\\sad\n",
            "D:\\Expression Dataset_mini\\test\\surprise\n"
          ],
          "name": "stdout"
        }
      ]
    },
    {
      "cell_type": "code",
      "metadata": {
        "id": "K3j5NvxBGaOz"
      },
      "source": [
        "dataset=pd.DataFrame(data=test_set)\n",
        "dataset = dataset.sample(frac = 1)"
      ],
      "execution_count": null,
      "outputs": []
    },
    {
      "cell_type": "code",
      "metadata": {
        "id": "OAxgrcAAGaO1",
        "outputId": "d3dfd377-44ec-4649-d658-74e7452d8258"
      },
      "source": [
        "dataset"
      ],
      "execution_count": null,
      "outputs": [
        {
          "output_type": "execute_result",
          "data": {
            "text/html": [
              "<div>\n",
              "<style scoped>\n",
              "    .dataframe tbody tr th:only-of-type {\n",
              "        vertical-align: middle;\n",
              "    }\n",
              "\n",
              "    .dataframe tbody tr th {\n",
              "        vertical-align: top;\n",
              "    }\n",
              "\n",
              "    .dataframe thead th {\n",
              "        text-align: right;\n",
              "    }\n",
              "</style>\n",
              "<table border=\"1\" class=\"dataframe\">\n",
              "  <thead>\n",
              "    <tr style=\"text-align: right;\">\n",
              "      <th></th>\n",
              "      <th>0</th>\n",
              "      <th>1</th>\n",
              "      <th>2</th>\n",
              "      <th>3</th>\n",
              "      <th>4</th>\n",
              "      <th>5</th>\n",
              "      <th>6</th>\n",
              "      <th>7</th>\n",
              "      <th>8</th>\n",
              "      <th>9</th>\n",
              "      <th>...</th>\n",
              "      <th>6903</th>\n",
              "      <th>6904</th>\n",
              "      <th>6905</th>\n",
              "      <th>6906</th>\n",
              "      <th>6907</th>\n",
              "      <th>6908</th>\n",
              "      <th>6909</th>\n",
              "      <th>6910</th>\n",
              "      <th>6911</th>\n",
              "      <th>6912</th>\n",
              "    </tr>\n",
              "  </thead>\n",
              "  <tbody>\n",
              "    <tr>\n",
              "      <th>94</th>\n",
              "      <td>182</td>\n",
              "      <td>194</td>\n",
              "      <td>182</td>\n",
              "      <td>182</td>\n",
              "      <td>184</td>\n",
              "      <td>183</td>\n",
              "      <td>194</td>\n",
              "      <td>187</td>\n",
              "      <td>195</td>\n",
              "      <td>192</td>\n",
              "      <td>...</td>\n",
              "      <td>136</td>\n",
              "      <td>108</td>\n",
              "      <td>96</td>\n",
              "      <td>136</td>\n",
              "      <td>124</td>\n",
              "      <td>124</td>\n",
              "      <td>209</td>\n",
              "      <td>209</td>\n",
              "      <td>219</td>\n",
              "      <td>1</td>\n",
              "    </tr>\n",
              "    <tr>\n",
              "      <th>190</th>\n",
              "      <td>162</td>\n",
              "      <td>82</td>\n",
              "      <td>23</td>\n",
              "      <td>157</td>\n",
              "      <td>75</td>\n",
              "      <td>15</td>\n",
              "      <td>158</td>\n",
              "      <td>73</td>\n",
              "      <td>9</td>\n",
              "      <td>173</td>\n",
              "      <td>...</td>\n",
              "      <td>253</td>\n",
              "      <td>192</td>\n",
              "      <td>164</td>\n",
              "      <td>236</td>\n",
              "      <td>172</td>\n",
              "      <td>144</td>\n",
              "      <td>229</td>\n",
              "      <td>164</td>\n",
              "      <td>136</td>\n",
              "      <td>3</td>\n",
              "    </tr>\n",
              "    <tr>\n",
              "      <th>242</th>\n",
              "      <td>167</td>\n",
              "      <td>163</td>\n",
              "      <td>164</td>\n",
              "      <td>71</td>\n",
              "      <td>67</td>\n",
              "      <td>68</td>\n",
              "      <td>28</td>\n",
              "      <td>23</td>\n",
              "      <td>27</td>\n",
              "      <td>20</td>\n",
              "      <td>...</td>\n",
              "      <td>192</td>\n",
              "      <td>196</td>\n",
              "      <td>109</td>\n",
              "      <td>216</td>\n",
              "      <td>223</td>\n",
              "      <td>128</td>\n",
              "      <td>195</td>\n",
              "      <td>205</td>\n",
              "      <td>106</td>\n",
              "      <td>4</td>\n",
              "    </tr>\n",
              "    <tr>\n",
              "      <th>88</th>\n",
              "      <td>45</td>\n",
              "      <td>35</td>\n",
              "      <td>23</td>\n",
              "      <td>47</td>\n",
              "      <td>38</td>\n",
              "      <td>23</td>\n",
              "      <td>47</td>\n",
              "      <td>38</td>\n",
              "      <td>23</td>\n",
              "      <td>45</td>\n",
              "      <td>...</td>\n",
              "      <td>72</td>\n",
              "      <td>53</td>\n",
              "      <td>36</td>\n",
              "      <td>76</td>\n",
              "      <td>57</td>\n",
              "      <td>40</td>\n",
              "      <td>79</td>\n",
              "      <td>60</td>\n",
              "      <td>43</td>\n",
              "      <td>1</td>\n",
              "    </tr>\n",
              "    <tr>\n",
              "      <th>277</th>\n",
              "      <td>5</td>\n",
              "      <td>4</td>\n",
              "      <td>0</td>\n",
              "      <td>4</td>\n",
              "      <td>3</td>\n",
              "      <td>0</td>\n",
              "      <td>2</td>\n",
              "      <td>2</td>\n",
              "      <td>0</td>\n",
              "      <td>2</td>\n",
              "      <td>...</td>\n",
              "      <td>110</td>\n",
              "      <td>52</td>\n",
              "      <td>74</td>\n",
              "      <td>126</td>\n",
              "      <td>55</td>\n",
              "      <td>89</td>\n",
              "      <td>185</td>\n",
              "      <td>104</td>\n",
              "      <td>145</td>\n",
              "      <td>5</td>\n",
              "    </tr>\n",
              "    <tr>\n",
              "      <th>...</th>\n",
              "      <td>...</td>\n",
              "      <td>...</td>\n",
              "      <td>...</td>\n",
              "      <td>...</td>\n",
              "      <td>...</td>\n",
              "      <td>...</td>\n",
              "      <td>...</td>\n",
              "      <td>...</td>\n",
              "      <td>...</td>\n",
              "      <td>...</td>\n",
              "      <td>...</td>\n",
              "      <td>...</td>\n",
              "      <td>...</td>\n",
              "      <td>...</td>\n",
              "      <td>...</td>\n",
              "      <td>...</td>\n",
              "      <td>...</td>\n",
              "      <td>...</td>\n",
              "      <td>...</td>\n",
              "      <td>...</td>\n",
              "      <td>...</td>\n",
              "    </tr>\n",
              "    <tr>\n",
              "      <th>92</th>\n",
              "      <td>252</td>\n",
              "      <td>255</td>\n",
              "      <td>255</td>\n",
              "      <td>255</td>\n",
              "      <td>246</td>\n",
              "      <td>241</td>\n",
              "      <td>172</td>\n",
              "      <td>134</td>\n",
              "      <td>121</td>\n",
              "      <td>105</td>\n",
              "      <td>...</td>\n",
              "      <td>62</td>\n",
              "      <td>65</td>\n",
              "      <td>58</td>\n",
              "      <td>69</td>\n",
              "      <td>68</td>\n",
              "      <td>64</td>\n",
              "      <td>65</td>\n",
              "      <td>59</td>\n",
              "      <td>59</td>\n",
              "      <td>1</td>\n",
              "    </tr>\n",
              "    <tr>\n",
              "      <th>207</th>\n",
              "      <td>38</td>\n",
              "      <td>38</td>\n",
              "      <td>38</td>\n",
              "      <td>33</td>\n",
              "      <td>33</td>\n",
              "      <td>33</td>\n",
              "      <td>26</td>\n",
              "      <td>26</td>\n",
              "      <td>26</td>\n",
              "      <td>22</td>\n",
              "      <td>...</td>\n",
              "      <td>188</td>\n",
              "      <td>188</td>\n",
              "      <td>188</td>\n",
              "      <td>184</td>\n",
              "      <td>184</td>\n",
              "      <td>184</td>\n",
              "      <td>173</td>\n",
              "      <td>173</td>\n",
              "      <td>173</td>\n",
              "      <td>4</td>\n",
              "    </tr>\n",
              "    <tr>\n",
              "      <th>127</th>\n",
              "      <td>97</td>\n",
              "      <td>87</td>\n",
              "      <td>88</td>\n",
              "      <td>81</td>\n",
              "      <td>71</td>\n",
              "      <td>72</td>\n",
              "      <td>108</td>\n",
              "      <td>98</td>\n",
              "      <td>97</td>\n",
              "      <td>119</td>\n",
              "      <td>...</td>\n",
              "      <td>62</td>\n",
              "      <td>61</td>\n",
              "      <td>57</td>\n",
              "      <td>60</td>\n",
              "      <td>61</td>\n",
              "      <td>56</td>\n",
              "      <td>55</td>\n",
              "      <td>56</td>\n",
              "      <td>51</td>\n",
              "      <td>2</td>\n",
              "    </tr>\n",
              "    <tr>\n",
              "      <th>97</th>\n",
              "      <td>111</td>\n",
              "      <td>109</td>\n",
              "      <td>97</td>\n",
              "      <td>124</td>\n",
              "      <td>122</td>\n",
              "      <td>109</td>\n",
              "      <td>133</td>\n",
              "      <td>133</td>\n",
              "      <td>121</td>\n",
              "      <td>139</td>\n",
              "      <td>...</td>\n",
              "      <td>129</td>\n",
              "      <td>59</td>\n",
              "      <td>70</td>\n",
              "      <td>144</td>\n",
              "      <td>60</td>\n",
              "      <td>83</td>\n",
              "      <td>162</td>\n",
              "      <td>72</td>\n",
              "      <td>100</td>\n",
              "      <td>1</td>\n",
              "    </tr>\n",
              "    <tr>\n",
              "      <th>32</th>\n",
              "      <td>25</td>\n",
              "      <td>29</td>\n",
              "      <td>30</td>\n",
              "      <td>21</td>\n",
              "      <td>25</td>\n",
              "      <td>24</td>\n",
              "      <td>22</td>\n",
              "      <td>24</td>\n",
              "      <td>23</td>\n",
              "      <td>21</td>\n",
              "      <td>...</td>\n",
              "      <td>71</td>\n",
              "      <td>134</td>\n",
              "      <td>165</td>\n",
              "      <td>0</td>\n",
              "      <td>73</td>\n",
              "      <td>105</td>\n",
              "      <td>36</td>\n",
              "      <td>119</td>\n",
              "      <td>153</td>\n",
              "      <td>0</td>\n",
              "    </tr>\n",
              "  </tbody>\n",
              "</table>\n",
              "<p>350 rows × 6913 columns</p>\n",
              "</div>"
            ],
            "text/plain": [
              "     0     1     2     3     4     5     6     7     8     9     ...  6903  \\\n",
              "94    182   194   182   182   184   183   194   187   195   192  ...   136   \n",
              "190   162    82    23   157    75    15   158    73     9   173  ...   253   \n",
              "242   167   163   164    71    67    68    28    23    27    20  ...   192   \n",
              "88     45    35    23    47    38    23    47    38    23    45  ...    72   \n",
              "277     5     4     0     4     3     0     2     2     0     2  ...   110   \n",
              "..    ...   ...   ...   ...   ...   ...   ...   ...   ...   ...  ...   ...   \n",
              "92    252   255   255   255   246   241   172   134   121   105  ...    62   \n",
              "207    38    38    38    33    33    33    26    26    26    22  ...   188   \n",
              "127    97    87    88    81    71    72   108    98    97   119  ...    62   \n",
              "97    111   109    97   124   122   109   133   133   121   139  ...   129   \n",
              "32     25    29    30    21    25    24    22    24    23    21  ...    71   \n",
              "\n",
              "     6904  6905  6906  6907  6908  6909  6910  6911  6912  \n",
              "94    108    96   136   124   124   209   209   219     1  \n",
              "190   192   164   236   172   144   229   164   136     3  \n",
              "242   196   109   216   223   128   195   205   106     4  \n",
              "88     53    36    76    57    40    79    60    43     1  \n",
              "277    52    74   126    55    89   185   104   145     5  \n",
              "..    ...   ...   ...   ...   ...   ...   ...   ...   ...  \n",
              "92     65    58    69    68    64    65    59    59     1  \n",
              "207   188   188   184   184   184   173   173   173     4  \n",
              "127    61    57    60    61    56    55    56    51     2  \n",
              "97     59    70   144    60    83   162    72   100     1  \n",
              "32    134   165     0    73   105    36   119   153     0  \n",
              "\n",
              "[350 rows x 6913 columns]"
            ]
          },
          "metadata": {
            "tags": []
          },
          "execution_count": 13
        }
      ]
    },
    {
      "cell_type": "code",
      "metadata": {
        "id": "a9rTOFdoGaO4"
      },
      "source": [
        "dataset.to_csv('test.csv')"
      ],
      "execution_count": null,
      "outputs": []
    },
    {
      "cell_type": "markdown",
      "metadata": {
        "id": "Wul75-baBkpr"
      },
      "source": [
        "#Loading Train and Test Set"
      ]
    },
    {
      "cell_type": "code",
      "metadata": {
        "id": "9FHNL-BLGaO6"
      },
      "source": [
        "dataset=pd.read_csv('train.csv')\n",
        "x_train=dataset.iloc[:,1:-1].values\n",
        "y_train=dataset.iloc[:,-1].values"
      ],
      "execution_count": null,
      "outputs": []
    },
    {
      "cell_type": "code",
      "metadata": {
        "id": "q3FjEQ_nG3Bz",
        "outputId": "41fffe68-3883-4012-f0e2-954fa740257b",
        "colab": {
          "base_uri": "https://localhost:8080/"
        }
      },
      "source": [
        "x_train"
      ],
      "execution_count": null,
      "outputs": [
        {
          "output_type": "execute_result",
          "data": {
            "text/plain": [
              "array([[101., 109., 145., ...,   4.,   4.,   4.],\n",
              "       [ 38.,  80., 130., ..., 108., 115.,  19.],\n",
              "       [182., 203., 246., ..., 152., 146., 148.],\n",
              "       ...,\n",
              "       [130., 116., 115., ...,  74.,  88.,  29.],\n",
              "       [ 85., 129., 190., ...,   1.,   6.,   0.],\n",
              "       [ 83., 142., 198., ...,  67.,  77.,  43.]])"
            ]
          },
          "metadata": {
            "tags": []
          },
          "execution_count": 4
        }
      ]
    },
    {
      "cell_type": "code",
      "metadata": {
        "id": "CzoWbT59G6dy"
      },
      "source": [
        "dataset=pd.read_csv('test.csv')\n",
        "x_test=dataset.iloc[:,1:-1].values\n",
        "y_test=dataset.iloc[:,-1].values"
      ],
      "execution_count": null,
      "outputs": []
    },
    {
      "cell_type": "markdown",
      "metadata": {
        "id": "TQTOWCdKBpyR"
      },
      "source": [
        "#Feature Scaling"
      ]
    },
    {
      "cell_type": "code",
      "metadata": {
        "id": "kfCUMmgoG-A8"
      },
      "source": [
        "from sklearn.preprocessing import StandardScaler\n",
        "sc = StandardScaler()\n",
        "x_train=sc.fit_transform(x_train)\n",
        "x_test=sc.transform(x_test)"
      ],
      "execution_count": null,
      "outputs": []
    },
    {
      "cell_type": "markdown",
      "metadata": {
        "id": "cqoytTykBsxg"
      },
      "source": [
        "#Grid Search Function"
      ]
    },
    {
      "cell_type": "code",
      "metadata": {
        "id": "ZvVdNZhPG_ti"
      },
      "source": [
        "#TLE in logistic regression\n",
        "from sklearn.model_selection import GridSearchCV\n",
        "def grid_fun(parameters,classifier):\n",
        "  grid_search = GridSearchCV(estimator = classifier,\n",
        "                           param_grid = parameters,\n",
        "                           scoring = 'accuracy',\n",
        "                           cv = 10,\n",
        "                           n_jobs = -1)\n",
        "  grid_search.fit(x_train, y_train)\n",
        "  best_accuracy = grid_search.best_score_\n",
        "  best_parameters = grid_search.best_params_\n",
        "  print(\"Best Accuracy: {:.2f} %\".format(best_accuracy*100))\n",
        "  return best_parameters"
      ],
      "execution_count": null,
      "outputs": []
    },
    {
      "cell_type": "markdown",
      "metadata": {
        "id": "h2qqKYTGBwJl"
      },
      "source": [
        "#K-Fold Cross Validation Function"
      ]
    },
    {
      "cell_type": "code",
      "metadata": {
        "id": "cOlnoP9eLw2N"
      },
      "source": [
        "from sklearn.model_selection import cross_val_score\n",
        "def KFCV(classifier):\n",
        "  accuracies = cross_val_score(estimator = classifier, X = x_train, y = y_train, cv = 10)\n",
        "  print(\"Accuracy: {:.2f} %\".format(accuracies.mean()*100))\n",
        "  print(\"Standard Deviation: {:.2f} %\".format(accuracies.std()*100))"
      ],
      "execution_count": null,
      "outputs": []
    },
    {
      "cell_type": "markdown",
      "metadata": {
        "id": "wMBd73ulB0SM"
      },
      "source": [
        "#Model List"
      ]
    },
    {
      "cell_type": "code",
      "metadata": {
        "id": "Eawi91hHHDhl",
        "outputId": "308baf85-1d87-41f0-b230-3f34ed1c1378",
        "colab": {
          "base_uri": "https://localhost:8080/"
        }
      },
      "source": [
        "# from sklearn.linear_model import LogisticRegression\n",
        "# classifier = LogisticRegression(max_iter=500) \n",
        "## parameters = [{'C': [0.25,0.5,1], 'solver': ['lbfgs'],'max_iter':[500]}] \n",
        "## print(grid_fun(parameters,classifier)) #TLE\n",
        "## <--- LogisticRegression: 37% (manually tested) ---> ##\n",
        "# classifier.fit(x_train,y_train)\n",
        "#####################################################\n",
        "# from sklearn.neighbors import KNeighborsClassifier\n",
        "# classifier = KNeighborsClassifier()      \n",
        "# parameters=[{'n_neighbors':[5,10,20,30],'weights':['uniform','distance'],'metric':['minkowski'],'p':[1,2]}]  \n",
        "# print(grid_fun(parameters,classifier))        \n",
        "## <--- KNN: 45% Accuracy ---> ##\n",
        "## <--- Paramters: 'metric': 'minkowski', 'n_neighbors': 5, 'p': 1, 'weights': 'distance' ---> ##\n",
        "# classifier.fit(x_train,y_train)\n",
        "#######################################################\n",
        "# from sklearn.ensemble import RandomForestClassifier\n",
        "# classifier = RandomForestClassifier()\n",
        "# parameters=[{'n_estimators':[100,150,200],'criterion':['gini','entropy']}]  \n",
        "# print(grid_fun(parameters,classifier))\n",
        "## <--- RandomForest: 56.33% Accuracy ---> ##\n",
        "## <--- Parameters: 'criterion': 'gini', 'n_estimators': 100 ---> ##\n",
        "# classifier.fit(x_train, y_train)\n",
        "#######################################################\n",
        "# from sklearn.naive_bayes import GaussianNB\n",
        "# classifier = GaussianNB()\n",
        "# KFCV(classifier)\n",
        "## <--- NaiveBayes: 51% Default Parameters ---> ##\n",
        "# classifier.fit(x_train, y_train) \n",
        "#######################################################\n",
        "# from sklearn.tree import DecisionTreeClassifier\n",
        "# classifier = DecisionTreeClassifier()\n",
        "# parameters=[{'splitter':['best','random'],'criterion':['gini','entropy']}]  \n",
        "# print(grid_fun(parameters,classifier))\n",
        "## <--- Decision Tree: 37.3% Accuracy ---> ##\n",
        "## <--- Parameters: 'criterion': 'entropy', 'splitter': 'random' ---> ##\n",
        "# classifier.fit(x_train, y_train) \n",
        "#######################################################\n",
        "from sklearn.svm import SVC\n",
        "# classifier = SVC()\n",
        "# parameters = [{'C': [0.25, 0.5, 0.75, 1], 'kernel': ['linear'],'decision_function_shape':['ovo', 'ovr']},\n",
        "#               {'C': [0.25, 0.5, 0.75, 1], 'kernel': ['rbf'], 'gamma': [0.1, 0.2, 0.3, 0.4, 0.5, 0.6, 0.7, 0.8, 0.9,'auto'],'decision_function_shape':['ovo', 'ovr']},\n",
        "#               {'C': [0.25, 0.5, 0.75, 1], 'kernel': ['poly'],'gamma': [0.1, 0.2, 0.3, 0.4, 0.5, 0.6, 0.7, 0.8, 0.9,'auto'],'decision_function_shape':['ovo', 'ovr']},\n",
        "#               {'C': [0.25, 0.5, 0.75, 1], 'kernel': ['sigmoid'],'decision_function_shape':['ovo', 'ovr']}]\n",
        "# print(grid_fun(parameters,classifier))\n",
        "## <--- KernelSVM: 57% ---> ##\n",
        "## <--- Paramaters:'C': 1, 'decision_function_shape': 'ovo', 'gamma': 'auto', 'kernel': 'rbf' ---> ##\n",
        "classifier=SVC(C=1,decision_function_shape='ovo',gamma='auto',kernel='rbf')\n",
        "classifier.fit(x_train, y_train) \n",
        "#######################################################\n",
        "# from xgboost import XGBClassifier\n",
        "# classifier = XGBClassifier()\n",
        "# KFCV(classifier)\n",
        "## <--- XGBoost: 50% Accuracy ---> ##\n",
        "## <--- All Defaults ---> ##\n",
        "# classifier.fit(x_train, y_train) \n",
        "#######################################################"
      ],
      "execution_count": null,
      "outputs": [
        {
          "output_type": "execute_result",
          "data": {
            "text/plain": [
              "SVC(C=1, break_ties=False, cache_size=200, class_weight=None, coef0=0.0,\n",
              "    decision_function_shape='ovo', degree=3, gamma='auto', kernel='rbf',\n",
              "    max_iter=-1, probability=False, random_state=None, shrinking=True,\n",
              "    tol=0.001, verbose=False)"
            ]
          },
          "metadata": {
            "tags": []
          },
          "execution_count": 63
        }
      ]
    },
    {
      "cell_type": "markdown",
      "metadata": {
        "id": "59blaOfiB3nv"
      },
      "source": [
        "#Predicting Test Cases"
      ]
    },
    {
      "cell_type": "code",
      "metadata": {
        "id": "XEexTgRMHEbD",
        "outputId": "8efd61ed-6e7c-4455-dd3f-15360bc8f5c8",
        "colab": {
          "base_uri": "https://localhost:8080/"
        }
      },
      "source": [
        "from sklearn.metrics import confusion_matrix, accuracy_score\n",
        "y_pred = classifier.predict(x_test)\n",
        "cm = confusion_matrix(y_test, y_pred)\n",
        "print(cm)\n",
        "print('{}%'.format(accuracy_score(y_test, y_pred)*100))"
      ],
      "execution_count": null,
      "outputs": [
        {
          "output_type": "stream",
          "text": [
            "[[3 0 3 1 2 1]\n",
            " [1 5 0 0 1 3]\n",
            " [2 0 4 2 1 1]\n",
            " [2 0 0 7 1 0]\n",
            " [1 1 1 2 5 0]\n",
            " [1 1 0 0 2 6]]\n",
            "50.0%\n"
          ],
          "name": "stdout"
        }
      ]
    },
    {
      "cell_type": "markdown",
      "metadata": {
        "id": "dWIMi6-bQr1r"
      },
      "source": [
        "#Single Prediction"
      ]
    },
    {
      "cell_type": "code",
      "metadata": {
        "id": "AOxlTcHJQO7Z"
      },
      "source": [
        "path=''#specify your image path \n",
        "test_image=image.load_img(path,target_size=(48,48))\n",
        "test_image=tf.keras.preprocessing.image.img_to_array(test_image)\n",
        "test_image=test_image.flatten()\n",
        "test_image=np.expand_dims(test_image,axis=0)\n",
        "test_image=sc.transform(test_image)\n",
        "val=classifier.predict(test_image)\n",
        "\n",
        "if val==0:\n",
        "  print('Buildings')\n",
        "elif val==1:\n",
        "  print('Forest')\n",
        "elif val==2:\n",
        "  print('Glacier')\n",
        "elif val==3:\n",
        "  print('Mountain')\n",
        "elif val==4:\n",
        "  print('Sea')\n",
        "else:\n",
        "  print('Street')"
      ],
      "execution_count": null,
      "outputs": []
    }
  ]
}